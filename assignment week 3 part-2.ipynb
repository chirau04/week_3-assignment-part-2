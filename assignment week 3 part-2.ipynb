{
 "cells": [
  {
   "cell_type": "markdown",
   "id": "6077ede0-2297-4bdf-86ad-a726689f4802",
   "metadata": {},
   "source": [
    "#given list of tuples "
   ]
  },
  {
   "cell_type": "code",
   "execution_count": 1,
   "id": "6f6ad6ed-8e68-4986-9ac5-e1a239e9eba4",
   "metadata": {},
   "outputs": [],
   "source": [
    "data= [(\"sachin tendulkar\",34357) , (\"ricky ponting\",27483), (\"jack kallis\",25534), (\"virat kohli\",24936)]"
   ]
  },
  {
   "cell_type": "markdown",
   "id": "fe1481e7-4314-46f9-bcba-223af12de936",
   "metadata": {},
   "source": [
    "#sort the list based on the integer value using a lambda function "
   ]
  },
  {
   "cell_type": "code",
   "execution_count": 2,
   "id": "23889e59-f3a7-458b-96f8-b4ad0bbc8fff",
   "metadata": {},
   "outputs": [],
   "source": [
    "sorted_data = sorted(data,key=lambda x:x[1])"
   ]
  },
  {
   "cell_type": "code",
   "execution_count": 3,
   "id": "7733b8f7-f0b3-4454-8b7d-fbf91303ce61",
   "metadata": {},
   "outputs": [
    {
     "name": "stdout",
     "output_type": "stream",
     "text": [
      "[('virat kohli', 24936), ('jack kallis', 25534), ('ricky ponting', 27483), ('sachin tendulkar', 34357)]\n"
     ]
    }
   ],
   "source": [
    "print(sorted_data)"
   ]
  },
  {
   "cell_type": "code",
   "execution_count": 4,
   "id": "a70d19a3-c1f0-4b5c-8be5-4cc5bfcb9498",
   "metadata": {},
   "outputs": [],
   "source": [
    "numbers= [1,2,3,4,5,6,7,8,9,10]"
   ]
  },
  {
   "cell_type": "code",
   "execution_count": 5,
   "id": "69ac37a1-b63e-4a90-880b-1d6d2ae502f6",
   "metadata": {},
   "outputs": [],
   "source": [
    "squares= list(map(lambda x:x**2,numbers))"
   ]
  },
  {
   "cell_type": "code",
   "execution_count": 6,
   "id": "6415ce55-6772-440a-8916-219272332797",
   "metadata": {},
   "outputs": [
    {
     "name": "stdout",
     "output_type": "stream",
     "text": [
      "original numbers: [1, 2, 3, 4, 5, 6, 7, 8, 9, 10]\n"
     ]
    }
   ],
   "source": [
    "print(\"original numbers:\",numbers)"
   ]
  },
  {
   "cell_type": "code",
   "execution_count": 7,
   "id": "4edaa367-dd04-4fae-98f3-7f6250a547d9",
   "metadata": {},
   "outputs": [
    {
     "name": "stdout",
     "output_type": "stream",
     "text": [
      "squares of numbers: [1, 4, 9, 16, 25, 36, 49, 64, 81, 100]\n"
     ]
    }
   ],
   "source": [
    "print(\"squares of numbers:\",squares)"
   ]
  },
  {
   "cell_type": "code",
   "execution_count": 8,
   "id": "b714f59e-c4ab-447e-9adb-99218782e7c2",
   "metadata": {},
   "outputs": [],
   "source": [
    "input_list= [1,2,3,4,5,6,7,8,9,10]"
   ]
  },
  {
   "cell_type": "code",
   "execution_count": 9,
   "id": "15fd1b49-c932-424c-b7b3-1adae2551e90",
   "metadata": {},
   "outputs": [],
   "source": [
    "output_tuple= tuple(map(lambda x:str(x),input_list))"
   ]
  },
  {
   "cell_type": "code",
   "execution_count": 10,
   "id": "fcbf5f07-11c8-424a-9cd5-5dd1b29da44c",
   "metadata": {},
   "outputs": [
    {
     "name": "stdout",
     "output_type": "stream",
     "text": [
      "1 2 3 4 5 6 7 8 9 10\n"
     ]
    }
   ],
   "source": [
    "print(\" \".join(output_tuple))"
   ]
  },
  {
   "cell_type": "code",
   "execution_count": 11,
   "id": "f46347a1-b7fc-4970-9ab2-9c329853d681",
   "metadata": {},
   "outputs": [],
   "source": [
    "name = \"chirau\""
   ]
  },
  {
   "cell_type": "code",
   "execution_count": 12,
   "id": "b4370a2f-49d0-4ff8-b20d-7020e527d972",
   "metadata": {},
   "outputs": [
    {
     "data": {
      "text/plain": [
       "str"
      ]
     },
     "execution_count": 12,
     "metadata": {},
     "output_type": "execute_result"
    }
   ],
   "source": [
    "type(name)"
   ]
  },
  {
   "cell_type": "code",
   "execution_count": 19,
   "id": "013a5047-d94f-4393-8214-e91f61fdad57",
   "metadata": {},
   "outputs": [],
   "source": [
    "numbers_list = list(range(1,26))"
   ]
  },
  {
   "cell_type": "markdown",
   "id": "e632502d-b82e-45ff-a836-aa3921fd565f",
   "metadata": {},
   "source": [
    "#use reduce to compute the product of the list"
   ]
  },
  {
   "cell_type": "code",
   "execution_count": 25,
   "id": "274e08b2-7012-4e42-8370-3dd451ab346a",
   "metadata": {},
   "outputs": [],
   "source": [
    "product_result= reduce =(lambda x,y: x*y , numbers_list)"
   ]
  },
  {
   "cell_type": "code",
   "execution_count": 26,
   "id": "15857952-4b2f-40fe-b44a-e9e963f282b2",
   "metadata": {},
   "outputs": [
    {
     "name": "stdout",
     "output_type": "stream",
     "text": [
      "product of numbers from 1 to 25: (<function <lambda> at 0x7f4cb8129900>, [1, 2, 3, 4, 5, 6, 7, 8, 9, 10, 11, 12, 13, 14, 15, 16, 17, 18, 19, 20, 21, 22, 23, 24, 25])\n"
     ]
    }
   ],
   "source": [
    "print(\"product of numbers from 1 to 25:\", product_result)"
   ]
  },
  {
   "cell_type": "code",
   "execution_count": 27,
   "id": "ea945786-2099-42bc-847a-fc537a06326e",
   "metadata": {},
   "outputs": [],
   "source": [
    "numbers_list= [1,2,3,4,5,6,7,8,9,10,11,12,13,14,15]"
   ]
  },
  {
   "cell_type": "code",
   "execution_count": 28,
   "id": "02cd39b6-5c42-43ed-9f0e-13146cbca053",
   "metadata": {},
   "outputs": [],
   "source": [
    "filtered_numbers = list(filter(lambda x:x%2==0 and x%3==0,numbers_list))"
   ]
  },
  {
   "cell_type": "code",
   "execution_count": 29,
   "id": "789420d2-2278-4199-a395-0da1d83b6d77",
   "metadata": {},
   "outputs": [
    {
     "name": "stdout",
     "output_type": "stream",
     "text": [
      "numbers divisible by 2 and 3: [6, 12]\n"
     ]
    }
   ],
   "source": [
    "print(\"numbers divisible by 2 and 3:\", filtered_numbers)"
   ]
  },
  {
   "cell_type": "code",
   "execution_count": 30,
   "id": "cd7991f2-a658-44db-962f-cc92c603482a",
   "metadata": {},
   "outputs": [],
   "source": [
    "words= [\"python\", \"php\",\"aba\",\"radar\",\"level\"]"
   ]
  },
  {
   "cell_type": "code",
   "execution_count": 31,
   "id": "25edf09c-7270-4a4a-80e0-d02dbf1070df",
   "metadata": {},
   "outputs": [],
   "source": [
    "is_palindrome = lambda word : word== word[::-1]"
   ]
  },
  {
   "cell_type": "code",
   "execution_count": null,
   "id": "f701bb22-3931-4a7a-b219-c3000d78b783",
   "metadata": {},
   "outputs": [],
   "source": [
    "palindromes= list(filter(is_palindrome,words))"
   ]
  }
 ],
 "metadata": {
  "kernelspec": {
   "display_name": "Python 3 (ipykernel)",
   "language": "python",
   "name": "python3"
  },
  "language_info": {
   "codemirror_mode": {
    "name": "ipython",
    "version": 3
   },
   "file_extension": ".py",
   "mimetype": "text/x-python",
   "name": "python",
   "nbconvert_exporter": "python",
   "pygments_lexer": "ipython3",
   "version": "3.10.8"
  }
 },
 "nbformat": 4,
 "nbformat_minor": 5
}
